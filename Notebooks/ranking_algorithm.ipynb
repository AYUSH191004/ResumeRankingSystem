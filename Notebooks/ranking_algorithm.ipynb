{
 "cells": [
  {
   "cell_type": "code",
   "execution_count": null,
   "metadata": {},
   "outputs": [],
   "source": []
  },
  {
   "cell_type": "code",
   "execution_count": null,
   "metadata": {},
   "outputs": [],
   "source": [
    "from preprocessing.dataextraction import JobMatcher"
   ]
  },
  {
   "cell_type": "code",
   "execution_count": null,
   "metadata": {},
   "outputs": [],
   "source": [
    "class ResumeRanker:\n",
    "    def __init__(self):\n",
    "        self.job_matcher = JobMatcher()\n",
    "        \n",
    "    def rank_resumes(self, job_description, resumes):\n",
    "        scores = []\n",
    "        for resume in resumes:\n",
    "            score = self._calculate_overall_score(resume, job_description)\n",
    "            scores.append((resume, score))\n",
    "            \n",
    "        return sorted(scores, key=lambda x: x[1], reverse=True)\n",
    "        \n",
    "    def _calculate_overall_score(self, resume, job_description):\n",
    "        # Weighted scoring\n",
    "        skill_score = self._calculate_skill_match(resume.skills, job_description.required_skills)\n",
    "        exp_score = self._calculate_experience_match(resume.total_experience, job_description.required_experience)\n",
    "        edu_score = self._calculate_education_match(resume.highest_qualification, job_description.required_education)\n",
    "        \n",
    "        return (skill_score * 0.4 + exp_score * 0.3 + edu_score * 0.3)"
   ]
  },
  {
   "cell_type": "code",
   "execution_count": null,
   "metadata": {},
   "outputs": [],
   "source": []
  }
 ],
 "metadata": {
  "kernelspec": {
   "display_name": "pro-env",
   "language": "python",
   "name": "python3"
  },
  "language_info": {
   "name": "python",
   "version": "3.8.20"
  }
 },
 "nbformat": 4,
 "nbformat_minor": 2
}
